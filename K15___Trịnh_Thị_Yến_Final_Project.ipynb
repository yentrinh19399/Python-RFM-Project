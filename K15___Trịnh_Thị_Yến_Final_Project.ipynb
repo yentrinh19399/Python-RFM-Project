{
  "nbformat": 4,
  "nbformat_minor": 0,
  "metadata": {
    "colab": {
      "provenance": []
    },
    "kernelspec": {
      "name": "python3",
      "display_name": "Python 3"
    },
    "language_info": {
      "name": "python"
    }
  },
  "cells": [
    {
      "cell_type": "markdown",
      "source": [
        " **1. Load + Đọc file**"
      ],
      "metadata": {
        "id": "RCgOPW-MlIO3"
      }
    },
    {
      "cell_type": "code",
      "source": [
        "import pandas as pd\n",
        "import numpy as np\n",
        "import seaborn as sns\n",
        "import matplotlib.pyplot as plt"
      ],
      "metadata": {
        "id": "Zz5AobwclVaQ"
      },
      "execution_count": null,
      "outputs": []
    },
    {
      "cell_type": "code",
      "source": [
        "\n",
        "from google.colab import files\n",
        "uploaded = files.upload()"
      ],
      "metadata": {
        "colab": {
          "base_uri": "https://localhost:8080/",
          "height": 73
        },
        "id": "T1_PQEyglK43",
        "outputId": "2df52913-cfa1-4e6b-851d-32bd3e193a90"
      },
      "execution_count": null,
      "outputs": [
        {
          "output_type": "display_data",
          "data": {
            "text/plain": [
              "<IPython.core.display.HTML object>"
            ],
            "text/html": [
              "\n",
              "     <input type=\"file\" id=\"files-2c39c516-1cba-4614-9120-c8ad6d3e4e41\" name=\"files[]\" multiple disabled\n",
              "        style=\"border:none\" />\n",
              "     <output id=\"result-2c39c516-1cba-4614-9120-c8ad6d3e4e41\">\n",
              "      Upload widget is only available when the cell has been executed in the\n",
              "      current browser session. Please rerun this cell to enable.\n",
              "      </output>\n",
              "      <script>// Copyright 2017 Google LLC\n",
              "//\n",
              "// Licensed under the Apache License, Version 2.0 (the \"License\");\n",
              "// you may not use this file except in compliance with the License.\n",
              "// You may obtain a copy of the License at\n",
              "//\n",
              "//      http://www.apache.org/licenses/LICENSE-2.0\n",
              "//\n",
              "// Unless required by applicable law or agreed to in writing, software\n",
              "// distributed under the License is distributed on an \"AS IS\" BASIS,\n",
              "// WITHOUT WARRANTIES OR CONDITIONS OF ANY KIND, either express or implied.\n",
              "// See the License for the specific language governing permissions and\n",
              "// limitations under the License.\n",
              "\n",
              "/**\n",
              " * @fileoverview Helpers for google.colab Python module.\n",
              " */\n",
              "(function(scope) {\n",
              "function span(text, styleAttributes = {}) {\n",
              "  const element = document.createElement('span');\n",
              "  element.textContent = text;\n",
              "  for (const key of Object.keys(styleAttributes)) {\n",
              "    element.style[key] = styleAttributes[key];\n",
              "  }\n",
              "  return element;\n",
              "}\n",
              "\n",
              "// Max number of bytes which will be uploaded at a time.\n",
              "const MAX_PAYLOAD_SIZE = 100 * 1024;\n",
              "\n",
              "function _uploadFiles(inputId, outputId) {\n",
              "  const steps = uploadFilesStep(inputId, outputId);\n",
              "  const outputElement = document.getElementById(outputId);\n",
              "  // Cache steps on the outputElement to make it available for the next call\n",
              "  // to uploadFilesContinue from Python.\n",
              "  outputElement.steps = steps;\n",
              "\n",
              "  return _uploadFilesContinue(outputId);\n",
              "}\n",
              "\n",
              "// This is roughly an async generator (not supported in the browser yet),\n",
              "// where there are multiple asynchronous steps and the Python side is going\n",
              "// to poll for completion of each step.\n",
              "// This uses a Promise to block the python side on completion of each step,\n",
              "// then passes the result of the previous step as the input to the next step.\n",
              "function _uploadFilesContinue(outputId) {\n",
              "  const outputElement = document.getElementById(outputId);\n",
              "  const steps = outputElement.steps;\n",
              "\n",
              "  const next = steps.next(outputElement.lastPromiseValue);\n",
              "  return Promise.resolve(next.value.promise).then((value) => {\n",
              "    // Cache the last promise value to make it available to the next\n",
              "    // step of the generator.\n",
              "    outputElement.lastPromiseValue = value;\n",
              "    return next.value.response;\n",
              "  });\n",
              "}\n",
              "\n",
              "/**\n",
              " * Generator function which is called between each async step of the upload\n",
              " * process.\n",
              " * @param {string} inputId Element ID of the input file picker element.\n",
              " * @param {string} outputId Element ID of the output display.\n",
              " * @return {!Iterable<!Object>} Iterable of next steps.\n",
              " */\n",
              "function* uploadFilesStep(inputId, outputId) {\n",
              "  const inputElement = document.getElementById(inputId);\n",
              "  inputElement.disabled = false;\n",
              "\n",
              "  const outputElement = document.getElementById(outputId);\n",
              "  outputElement.innerHTML = '';\n",
              "\n",
              "  const pickedPromise = new Promise((resolve) => {\n",
              "    inputElement.addEventListener('change', (e) => {\n",
              "      resolve(e.target.files);\n",
              "    });\n",
              "  });\n",
              "\n",
              "  const cancel = document.createElement('button');\n",
              "  inputElement.parentElement.appendChild(cancel);\n",
              "  cancel.textContent = 'Cancel upload';\n",
              "  const cancelPromise = new Promise((resolve) => {\n",
              "    cancel.onclick = () => {\n",
              "      resolve(null);\n",
              "    };\n",
              "  });\n",
              "\n",
              "  // Wait for the user to pick the files.\n",
              "  const files = yield {\n",
              "    promise: Promise.race([pickedPromise, cancelPromise]),\n",
              "    response: {\n",
              "      action: 'starting',\n",
              "    }\n",
              "  };\n",
              "\n",
              "  cancel.remove();\n",
              "\n",
              "  // Disable the input element since further picks are not allowed.\n",
              "  inputElement.disabled = true;\n",
              "\n",
              "  if (!files) {\n",
              "    return {\n",
              "      response: {\n",
              "        action: 'complete',\n",
              "      }\n",
              "    };\n",
              "  }\n",
              "\n",
              "  for (const file of files) {\n",
              "    const li = document.createElement('li');\n",
              "    li.append(span(file.name, {fontWeight: 'bold'}));\n",
              "    li.append(span(\n",
              "        `(${file.type || 'n/a'}) - ${file.size} bytes, ` +\n",
              "        `last modified: ${\n",
              "            file.lastModifiedDate ? file.lastModifiedDate.toLocaleDateString() :\n",
              "                                    'n/a'} - `));\n",
              "    const percent = span('0% done');\n",
              "    li.appendChild(percent);\n",
              "\n",
              "    outputElement.appendChild(li);\n",
              "\n",
              "    const fileDataPromise = new Promise((resolve) => {\n",
              "      const reader = new FileReader();\n",
              "      reader.onload = (e) => {\n",
              "        resolve(e.target.result);\n",
              "      };\n",
              "      reader.readAsArrayBuffer(file);\n",
              "    });\n",
              "    // Wait for the data to be ready.\n",
              "    let fileData = yield {\n",
              "      promise: fileDataPromise,\n",
              "      response: {\n",
              "        action: 'continue',\n",
              "      }\n",
              "    };\n",
              "\n",
              "    // Use a chunked sending to avoid message size limits. See b/62115660.\n",
              "    let position = 0;\n",
              "    do {\n",
              "      const length = Math.min(fileData.byteLength - position, MAX_PAYLOAD_SIZE);\n",
              "      const chunk = new Uint8Array(fileData, position, length);\n",
              "      position += length;\n",
              "\n",
              "      const base64 = btoa(String.fromCharCode.apply(null, chunk));\n",
              "      yield {\n",
              "        response: {\n",
              "          action: 'append',\n",
              "          file: file.name,\n",
              "          data: base64,\n",
              "        },\n",
              "      };\n",
              "\n",
              "      let percentDone = fileData.byteLength === 0 ?\n",
              "          100 :\n",
              "          Math.round((position / fileData.byteLength) * 100);\n",
              "      percent.textContent = `${percentDone}% done`;\n",
              "\n",
              "    } while (position < fileData.byteLength);\n",
              "  }\n",
              "\n",
              "  // All done.\n",
              "  yield {\n",
              "    response: {\n",
              "      action: 'complete',\n",
              "    }\n",
              "  };\n",
              "}\n",
              "\n",
              "scope.google = scope.google || {};\n",
              "scope.google.colab = scope.google.colab || {};\n",
              "scope.google.colab._files = {\n",
              "  _uploadFiles,\n",
              "  _uploadFilesContinue,\n",
              "};\n",
              "})(self);\n",
              "</script> "
            ]
          },
          "metadata": {}
        },
        {
          "output_type": "stream",
          "name": "stdout",
          "text": [
            "Saving Dataset.xlsx to Dataset.xlsx\n"
          ]
        }
      ]
    },
    {
      "cell_type": "code",
      "source": [
        "import io\n",
        "data = pd.read_excel(io.BytesIO(uploaded['Dataset.xlsx']))\n",
        "print(data.head())"
      ],
      "metadata": {
        "colab": {
          "base_uri": "https://localhost:8080/"
        },
        "id": "qRPuehqAhLwP",
        "outputId": "b7307108-4d3f-4034-a886-a2d409d7e7e5"
      },
      "execution_count": null,
      "outputs": [
        {
          "output_type": "stream",
          "name": "stdout",
          "text": [
            "   Row ID        Order ID Order Date  Ship Date       Ship Mode Customer ID  \\\n",
            "0     646  CA-2017-126221 2017-12-30 2018-01-05  Standard Class    CC-12430   \n",
            "1     907  CA-2017-143259 2017-12-30 2018-01-03  Standard Class    PO-18865   \n",
            "2     908  CA-2017-143259 2017-12-30 2018-01-03  Standard Class    PO-18865   \n",
            "3     909  CA-2017-143259 2017-12-30 2018-01-03  Standard Class    PO-18865   \n",
            "4    1297  CA-2017-115427 2017-12-30 2018-01-03  Standard Class    EB-13975   \n",
            "\n",
            "       Channel  Postal Code       Product ID    Sales  Quantity  Unit Cost  \n",
            "0  Home Office        47201  OFF-AP-10002457  209.300         2    76.3945  \n",
            "1     Consumer        10009  FUR-BO-10003441  323.136         4    77.7546  \n",
            "2     Consumer        10009  TEC-PH-10004774   90.930         7    12.6003  \n",
            "3     Consumer        10009  OFF-BI-10003684   52.776         3    10.9950  \n",
            "4    Corporate        94533  OFF-BI-10002103   13.904         2     4.6926  \n"
          ]
        }
      ]
    },
    {
      "cell_type": "markdown",
      "source": [
        "**2. Loại bỏ Returned Orders**"
      ],
      "metadata": {
        "id": "YZlbAP2Fp9hf"
      }
    },
    {
      "cell_type": "code",
      "source": [
        "data_orders = pd.read_excel(io.BytesIO(uploaded['Dataset.xlsx']), 'Orders')\n",
        "\n",
        "data_return = data = pd.read_excel(io.BytesIO(uploaded['Dataset.xlsx']), 'Return')\n",
        "\n",
        "data_orders_all = pd.merge(data_orders, data_return, on = 'Order ID', how = 'left', indicator=True)\n",
        "data_ordered = data_orders_all[data_orders_all['_merge'] == 'left_only']\n",
        "print(data_ordered)"
      ],
      "metadata": {
        "colab": {
          "base_uri": "https://localhost:8080/"
        },
        "id": "jTCZUrXayPm-",
        "outputId": "58b56ad9-1074-44fc-81fd-1335cf9a6736"
      },
      "execution_count": null,
      "outputs": [
        {
          "output_type": "stream",
          "name": "stdout",
          "text": [
            "      Row ID        Order ID Order Date  Ship Date       Ship Mode  \\\n",
            "0        646  CA-2017-126221 2017-12-30 2018-01-05  Standard Class   \n",
            "1        907  CA-2017-143259 2017-12-30 2018-01-03  Standard Class   \n",
            "2        908  CA-2017-143259 2017-12-30 2018-01-03  Standard Class   \n",
            "3        909  CA-2017-143259 2017-12-30 2018-01-03  Standard Class   \n",
            "6       5092  CA-2017-156720 2017-12-30 2018-01-03  Standard Class   \n",
            "...      ...             ...        ...        ...             ...   \n",
            "9989    1760  CA-2014-141817 2014-01-05 2014-01-12  Standard Class   \n",
            "9990     740  CA-2014-112326 2014-01-04 2014-01-08  Standard Class   \n",
            "9991     741  CA-2014-112326 2014-01-04 2014-01-08  Standard Class   \n",
            "9992     742  CA-2014-112326 2014-01-04 2014-01-08  Standard Class   \n",
            "9993    7981  CA-2014-103800 2014-01-03 2014-01-07  Standard Class   \n",
            "\n",
            "     Customer ID      Channel  Postal Code       Product ID    Sales  \\\n",
            "0       CC-12430  Home Office        47201  OFF-AP-10002457  209.300   \n",
            "1       PO-18865     Consumer        10009  FUR-BO-10003441  323.136   \n",
            "2       PO-18865     Consumer        10009  TEC-PH-10004774   90.930   \n",
            "3       PO-18865     Consumer        10009  OFF-BI-10003684   52.776   \n",
            "6       JM-15580     Consumer        80538  OFF-FA-10003472    3.024   \n",
            "...          ...          ...          ...              ...      ...   \n",
            "9989    MB-18085     Consumer        19143  OFF-AR-10003478   19.536   \n",
            "9990    PO-19195  Home Office        60540  OFF-LA-10003223   11.784   \n",
            "9991    PO-19195  Home Office        60540  OFF-ST-10002743  272.736   \n",
            "9992    PO-19195  Home Office        60540  OFF-BI-10004094    3.540   \n",
            "9993    DP-13000     Consumer        77095  OFF-PA-10000174   16.448   \n",
            "\n",
            "      Quantity  Unit Cost Returned     _merge  \n",
            "0            2    76.3945      NaN  left_only  \n",
            "1            4    77.7546      NaN  left_only  \n",
            "2            7    12.6003      NaN  left_only  \n",
            "3            3    10.9950      NaN  left_only  \n",
            "6            3     1.2096      NaN  left_only  \n",
            "...        ...        ...      ...        ...  \n",
            "9989         3     4.8840      NaN  left_only  \n",
            "9990         3     2.5041      NaN  left_only  \n",
            "9991         3   112.5036      NaN  left_only  \n",
            "9992         2     4.5135      NaN  left_only  \n",
            "9993         2     5.4484      NaN  left_only  \n",
            "\n",
            "[9194 rows x 14 columns]\n"
          ]
        }
      ]
    },
    {
      "cell_type": "markdown",
      "source": [
        "**3. Tính Recency: Thời gian kể từ lần giao dịch cuối cùng**\n",
        "\n"
      ],
      "metadata": {
        "id": "iLccscIBAMdx"
      }
    },
    {
      "cell_type": "code",
      "source": [
        "#Thêm cột ngày 31/12/2017\n",
        "data_ordered = data_ordered.assign(Now = '2017 - 12 - 31')\n",
        "data_ordered['Now'] = pd.to_datetime(data_ordered['Now'])\n",
        "\n",
        "#Tính tg order kể từ ngày order gần nhất của mỗi KH: Recency\n",
        "data_ordered['diff days'] = data_ordered['Now'] - data_ordered['Order Date']\n",
        "last_ordered = data_ordered.groupby('Customer ID')['diff days'].min().reset_index(name='Since_last_order')\n",
        "\n",
        "#Tính R\n",
        "last_ordered['R'] = pd.qcut(last_ordered['Since_last_order'], q = 5, labels = ['5', '4', '3', '2', '1'])\n",
        "print(last_ordered)"
      ],
      "metadata": {
        "colab": {
          "base_uri": "https://localhost:8080/"
        },
        "id": "3vxfrZG5APlf",
        "outputId": "b6030eca-814d-4285-d344-e32cb29cc9ce"
      },
      "execution_count": null,
      "outputs": [
        {
          "output_type": "stream",
          "name": "stdout",
          "text": [
            "    Customer ID Since_last_order  R\n",
            "0      AA-10315         185 days  2\n",
            "1      AA-10375          20 days  5\n",
            "2      AA-10480         260 days  2\n",
            "3      AA-10645         483 days  1\n",
            "4      AB-10015         416 days  1\n",
            "..          ...              ... ..\n",
            "786    XP-21865          83 days  3\n",
            "787    YC-21895           5 days  5\n",
            "788    YS-21880          10 days  5\n",
            "789    ZC-21910          55 days  4\n",
            "790    ZD-21925         203 days  2\n",
            "\n",
            "[791 rows x 3 columns]\n"
          ]
        }
      ]
    },
    {
      "cell_type": "markdown",
      "source": [
        "**4. Tính Frequency: Số lần khách hàng đã mua hàng trong một khoảng thời gian nhất định**"
      ],
      "metadata": {
        "id": "7ivUItQXMyUW"
      }
    },
    {
      "cell_type": "code",
      "source": [
        "times_ordered = data_ordered.groupby('Customer ID')['Order ID'].nunique().reset_index(name='times_order')\n",
        "times_ordered['F'] = pd.qcut(times_ordered['times_order'], q = 5, labels = ['1', '2', '3', '4', '5'])\n",
        "print(times_ordered)"
      ],
      "metadata": {
        "colab": {
          "base_uri": "https://localhost:8080/"
        },
        "id": "Sy2VImRFM86h",
        "outputId": "90644cef-4c4e-4144-ffee-ab648fd235e9"
      },
      "execution_count": null,
      "outputs": [
        {
          "output_type": "stream",
          "name": "stdout",
          "text": [
            "    Customer ID  times_order  F\n",
            "0      AA-10315            5  2\n",
            "1      AA-10375            9  5\n",
            "2      AA-10480            4  1\n",
            "3      AA-10645            5  2\n",
            "4      AB-10015            3  1\n",
            "..          ...          ... ..\n",
            "786    XP-21865            9  5\n",
            "787    YC-21895            4  1\n",
            "788    YS-21880            8  4\n",
            "789    ZC-21910           12  5\n",
            "790    ZD-21925            4  1\n",
            "\n",
            "[791 rows x 3 columns]\n"
          ]
        }
      ]
    },
    {
      "cell_type": "markdown",
      "source": [
        "**5. Tính Monetory: Tổng giá trị các giao dịch mà khách hàng đã thực hiện**"
      ],
      "metadata": {
        "id": "RJ2_MxunOBC6"
      }
    },
    {
      "cell_type": "code",
      "source": [
        "#Thêm cột doanh thu\n",
        "data_ordered['Revenue'] = data_ordered['Sales'] * data_ordered['Quantity']\n",
        "revenue_ordered = data_ordered.groupby('Customer ID')['Revenue'].sum().reset_index(name='revenue_order')\n",
        "revenue_ordered['M'] = pd.qcut(revenue_ordered['revenue_order'], q = 5, labels = ['1', '2', '3', '4', '5'])\n",
        "print(revenue_ordered)\n",
        "\n",
        "##cột doanh thu = tổng cột sales thôi, ko cần nhân quantity nhe"
      ],
      "metadata": {
        "colab": {
          "base_uri": "https://localhost:8080/"
        },
        "id": "zcx_iJn3OYkV",
        "outputId": "afd2c059-f351-417b-da38-dc9c8749bd20"
      },
      "execution_count": null,
      "outputs": [
        {
          "output_type": "stream",
          "name": "stdout",
          "text": [
            "    Customer ID  revenue_order  M\n",
            "0      AA-10315      16073.344  4\n",
            "1      AA-10375       2734.830  1\n",
            "2      AA-10480       5493.936  2\n",
            "3      AA-10645      22901.935  5\n",
            "4      AB-10015       1984.480  1\n",
            "..          ...            ... ..\n",
            "786    XP-21865       7425.602  3\n",
            "787    YC-21895      27130.426  5\n",
            "788    YS-21880      46478.992  5\n",
            "789    ZC-21910      39889.178  5\n",
            "790    ZD-21925       5744.008  2\n",
            "\n",
            "[791 rows x 3 columns]\n"
          ]
        }
      ]
    },
    {
      "cell_type": "markdown",
      "source": [
        "**6. Tìm RFM của mỗi KH**"
      ],
      "metadata": {
        "id": "wE5454xYSF_f"
      }
    },
    {
      "cell_type": "code",
      "source": [
        "merge1 = pd.merge(last_ordered, times_ordered, on = 'Customer ID')\n",
        "RFM = pd.merge(merge1, revenue_ordered, on = 'Customer ID')\n",
        "RFM['RFM Score'] = RFM['R'].astype('str') + RFM['F'].astype('str') + RFM['M'].astype('str')\n",
        "RFM['RFM Score'].astype(int)\n",
        "print(RFM)"
      ],
      "metadata": {
        "colab": {
          "base_uri": "https://localhost:8080/"
        },
        "id": "49rViNKLSJKa",
        "outputId": "e30a896b-0c26-426c-90ac-3e82637fd1fb"
      },
      "execution_count": null,
      "outputs": [
        {
          "output_type": "stream",
          "name": "stdout",
          "text": [
            "    Customer ID Since_last_order  R  times_order  F  revenue_order  M  \\\n",
            "0      AA-10315         185 days  2            5  2      16073.344  4   \n",
            "1      AA-10375          20 days  5            9  5       2734.830  1   \n",
            "2      AA-10480         260 days  2            4  1       5493.936  2   \n",
            "3      AA-10645         483 days  1            5  2      22901.935  5   \n",
            "4      AB-10015         416 days  1            3  1       1984.480  1   \n",
            "..          ...              ... ..          ... ..            ... ..   \n",
            "786    XP-21865          83 days  3            9  5       7425.602  3   \n",
            "787    YC-21895           5 days  5            4  1      27130.426  5   \n",
            "788    YS-21880          10 days  5            8  4      46478.992  5   \n",
            "789    ZC-21910          55 days  4           12  5      39889.178  5   \n",
            "790    ZD-21925         203 days  2            4  1       5744.008  2   \n",
            "\n",
            "    RFM Score  \n",
            "0         224  \n",
            "1         551  \n",
            "2         212  \n",
            "3         125  \n",
            "4         111  \n",
            "..        ...  \n",
            "786       353  \n",
            "787       515  \n",
            "788       545  \n",
            "789       455  \n",
            "790       212  \n",
            "\n",
            "[791 rows x 8 columns]\n"
          ]
        }
      ]
    },
    {
      "cell_type": "markdown",
      "source": [
        "**7. Tìm Segment của mỗi KH**"
      ],
      "metadata": {
        "id": "YFbjHVzzv5DT"
      }
    },
    {
      "cell_type": "code",
      "source": [
        "data_segmentation = pd.read_excel(io.BytesIO(uploaded['Dataset.xlsx']), 'Segmentation')\n",
        "\n",
        "#giải nén cột RFM score\n",
        "data_segmentation['RFM Score'] = data_segmentation['RFM Score'].str.split(', ')\n",
        "df_segmentation = pd.DataFrame({\n",
        "    'Segment': data_segmentation['Segment'].repeat(data_segmentation['RFM Score'].str.len()),\n",
        "    'RFM Score': [score for scores in data_segmentation['RFM Score'] for score in scores]\n",
        "})\n",
        "\n",
        "# In kết quả\n",
        "print(df_segmentation)\n",
        "data_customer = pd.merge(RFM, df_segmentation, on = 'RFM Score', how = 'left')\n",
        "print(data_customer)"
      ],
      "metadata": {
        "colab": {
          "base_uri": "https://localhost:8080/"
        },
        "id": "-modAtvPwBfD",
        "outputId": "b7c580af-0796-4f08-e1c9-d7087a7e07ee"
      },
      "execution_count": null,
      "outputs": [
        {
          "output_type": "stream",
          "name": "stdout",
          "text": [
            "           Segment RFM Score\n",
            "0        Champions       555\n",
            "0        Champions       554\n",
            "0        Champions       544\n",
            "0        Champions       545\n",
            "0        Champions       454\n",
            "..             ...       ...\n",
            "10  Lost customers       112\n",
            "10  Lost customers       121\n",
            "10  Lost customers       131\n",
            "10  Lost customers       141\n",
            "10  Lost customers       151\n",
            "\n",
            "[122 rows x 2 columns]\n",
            "    Customer ID Since_last_order  R  times_order  F  revenue_order  M  \\\n",
            "0      AA-10315         185 days  2            5  2      16073.344  4   \n",
            "1      AA-10375          20 days  5            9  5       2734.830  1   \n",
            "2      AA-10480         260 days  2            4  1       5493.936  2   \n",
            "3      AA-10645         483 days  1            5  2      22901.935  5   \n",
            "4      AB-10015         416 days  1            3  1       1984.480  1   \n",
            "..          ...              ... ..          ... ..            ... ..   \n",
            "786    XP-21865          83 days  3            9  5       7425.602  3   \n",
            "787    YC-21895           5 days  5            4  1      27130.426  5   \n",
            "788    YS-21880          10 days  5            8  4      46478.992  5   \n",
            "789    ZC-21910          55 days  4           12  5      39889.178  5   \n",
            "790    ZD-21925         203 days  2            4  1       5744.008  2   \n",
            "\n",
            "    RFM Score                Segment  \n",
            "0         224                At Risk  \n",
            "1         551     Potential Loyalist  \n",
            "2         212  Hibernating customers  \n",
            "3         125                At Risk  \n",
            "4         111         Lost customers  \n",
            "..        ...                    ...  \n",
            "786       353     Potential Loyalist  \n",
            "787       515              Promising  \n",
            "788       545              Champions  \n",
            "789       455              Champions  \n",
            "790       212  Hibernating customers  \n",
            "\n",
            "[791 rows x 9 columns]\n"
          ]
        }
      ]
    },
    {
      "cell_type": "markdown",
      "source": [
        "**8. Analysis**"
      ],
      "metadata": {
        "id": "LZwFIrn6zHWp"
      }
    },
    {
      "cell_type": "markdown",
      "source": [
        "**8.1 Tổng quan**"
      ],
      "metadata": {
        "id": "trPNbrZ3F7Ai"
      }
    },
    {
      "cell_type": "code",
      "source": [
        "#số lượng KH  theo từng nhóm\n",
        "data_count_group = data_customer.groupby('Segment')['Customer ID'].count()\n",
        "data_count_group.plot(kind = 'bar')\n",
        "plt.show()"
      ],
      "metadata": {
        "colab": {
          "base_uri": "https://localhost:8080/",
          "height": 594
        },
        "id": "KpvDcPdt1kir",
        "outputId": "1b99303f-c338-47f0-8dc7-0f99bb28e3cb"
      },
      "execution_count": null,
      "outputs": [
        {
          "output_type": "display_data",
          "data": {
            "text/plain": [
              "<Figure size 640x480 with 1 Axes>"
            ],
            "image/png": "[encoded data removed]"
          },
          "metadata": {}
        }
      ]
    },
    {
      "cell_type": "markdown",
      "source": [
        "=> 3 nhóm có số lượng khách nhiều nhất: Potential Loyalist, Hibernating customers, At Risk"
      ],
      "metadata": {
        "id": "2o85WWddXvYc"
      }
    },
    {
      "cell_type": "code",
      "source": [
        "#doanh thu của từng nhóm KH\n",
        "data_revenue_group = data_customer.groupby('Segment')['revenue_order'].sum()\n",
        "data_revenue_group.plot(x = 'Segment', kind = 'bar')\n",
        "plt.show()\n"
      ],
      "metadata": {
        "id": "toj4zsg8z6PW",
        "colab": {
          "base_uri": "https://localhost:8080/",
          "height": 609
        },
        "outputId": "b0454e14-eb12-478c-a2f9-5b74aaa9ff69"
      },
      "execution_count": null,
      "outputs": [
        {
          "output_type": "display_data",
          "data": {
            "text/plain": [
              "<Figure size 640x480 with 1 Axes>"
            ],
            "image/png": "[encoded data removed]"
          },
          "metadata": {}
        }
      ]
    },
    {
      "cell_type": "markdown",
      "source": [
        "- 2 nhóm mang lại doanh thu cao nhất là **Champions** và **At Risk**\n",
        "- Các nhóm có doanh thu cao tiếp theo: **Need Attention, Loyal, Cannot Lose Them, Potential Loyalist, Promising**\n",
        "- 4 nhóm có doanh thu thấp nhất: Hibernating customers , Lost Customers, About to sleep, New customer"
      ],
      "metadata": {
        "id": "VzNq3YWgYiYM"
      }
    },
    {
      "cell_type": "code",
      "source": [
        "#tần suất mua của từng nhóm\n",
        "data_frequence_group = data_customer.groupby('Segment')['times_order'].mean()\n",
        "data_frequence_group.plot(kind = 'bar')\n",
        "plt.show()"
      ],
      "metadata": {
        "colab": {
          "base_uri": "https://localhost:8080/",
          "height": 594
        },
        "id": "Bl4y-oYBz6jJ",
        "outputId": "d8ff6bd8-b87a-4c2a-f865-5222a3da6725"
      },
      "execution_count": null,
      "outputs": [
        {
          "output_type": "display_data",
          "data": {
            "text/plain": [
              "<Figure size 640x480 with 1 Axes>"
            ],
            "image/png": "[encoded data removed]"
          },
          "metadata": {}
        }
      ]
    },
    {
      "cell_type": "markdown",
      "source": [
        "- **Champions và Loyal** là 2 nhóm order thường xuyên nhất (8 - 10 lần/năm)\n",
        "- Potential Loyalist, At risk, Need Attention order trung bình 6 - 8 lần/năm\n",
        "- Các nhóm còn lại 3 - 6 orders/năm"
      ],
      "metadata": {
        "id": "k6kCO_HdZ5PV"
      }
    },
    {
      "cell_type": "markdown",
      "source": [
        "**8.2 Đưa ra recommend cho bộ phận Marketing**\n",
        "\n",
        "Mục đích của bộ phận Marketing là muốn có những chương trình phù hợp với từng nhóm KH. Đặc biệt muốn nhóm KH Potential Loyalist => Loyal\n",
        "- Nhóm Potential Loyalist đang có số lượng nhiều nhất\n",
        "- tần suất order trung bình (7-8 lần/năm)\n",
        "- Tuy nhiên, doanh thu còn đang khá thấp\n",
        "Để trở thành nhóm Loyal, cần có chương trình ưu đãi nhằm tăng giá trị đơn hàng (tăng số lượng mua trong 1 đơn hoặc khuyến khích họ mua những mặt hàng có giá trị cao hơn)"
      ],
      "metadata": {
        "id": "nTgBZBWAelSz"
      }
    },
    {
      "cell_type": "markdown",
      "source": [
        "**8.2.1 Tỷ lệ channel trong nhóm Potential Poyalist**"
      ],
      "metadata": {
        "id": "n-M5gx7WnHGv"
      }
    },
    {
      "cell_type": "code",
      "source": [
        "#Mỗi KH đã có phân Segment thuộc Channel nào\n",
        "customer_channel = pd.merge(data_customer, data_orders[['Customer ID', 'Channel']], on = 'Customer ID', how = 'left')\n",
        "customer_channel = customer_channel.drop_duplicates(subset = 'Customer ID')\n",
        "Potential = customer_channel[customer_channel['Segment'] == 'Potential Loyalist']\n",
        "Potential\n",
        "\n",
        "#Tìm nhóm Potential có tỷ lệ channel ntn\n",
        "\n",
        "sns.countplot(data = Potential, x = 'Channel')\n"
      ],
      "metadata": {
        "id": "huITkyBxgOqZ",
        "colab": {
          "base_uri": "https://localhost:8080/",
          "height": 466
        },
        "outputId": "b6dae1a3-819d-431e-a4de-c229261e217a"
      },
      "execution_count": null,
      "outputs": [
        {
          "output_type": "execute_result",
          "data": {
            "text/plain": [
              "<Axes: xlabel='Channel', ylabel='count'>"
            ]
          },
          "metadata": {},
          "execution_count": 13
        },
        {
          "output_type": "display_data",
          "data": {
            "text/plain": [
              "<Figure size 640x480 with 1 Axes>"
            ],
            "image/png": "[encoded data removed]"
          },
          "metadata": {}
        }
      ]
    },
    {
      "cell_type": "markdown",
      "source": [
        "=> Trong nhóm Potential Loyalist, số lượng KH là **Consumer chiếm > 50%**. Có thể tập trung chính vào nhóm đối tượng này để đưa ra chương trình khuyến mại phù hợp\n"
      ],
      "metadata": {
        "id": "NHpko_kGkWi5"
      }
    },
    {
      "cell_type": "code",
      "source": [
        "sns.boxplot(data = Potential, x = 'Channel', y = 'revenue_order')\n"
      ],
      "metadata": {
        "colab": {
          "base_uri": "https://localhost:8080/",
          "height": 466
        },
        "id": "ZojzAIG6cHHw",
        "outputId": "35126637-ba5b-45ed-a510-18f4019a05d1"
      },
      "execution_count": null,
      "outputs": [
        {
          "output_type": "execute_result",
          "data": {
            "text/plain": [
              "<Axes: xlabel='Channel', ylabel='revenue_order'>"
            ]
          },
          "metadata": {},
          "execution_count": 14
        },
        {
          "output_type": "display_data",
          "data": {
            "text/plain": [
              "<Figure size 640x480 with 1 Axes>"
            ],
            "image/png": "[encoded data removed]"
          },
          "metadata": {}
        }
      ]
    },
    {
      "cell_type": "markdown",
      "source": [
        "=> Mỗi Channel có trung bình chi trả không quá chênh lệch\n",
        "- 1 KH là Corporate chi tiêu chủ yếu 5000 - 10000/năm\n",
        "- 1 KH là Consumer chi tiêu chủ yếu ~ 6000 - 10000/năm\n",
        "- 1 KH là Corporate chi tiêu chủ yếu 6000 - ~ 9000/năm"
      ],
      "metadata": {
        "id": "5E3tCJU0kIjW"
      }
    },
    {
      "cell_type": "markdown",
      "source": [
        "**8.2.2 Tìm ra Category/Sub Category nào được Customer/Corporate/Home Office (trong nhóm Potential Loyalist) mua nhiều**"
      ],
      "metadata": {
        "id": "3ucZDvIkmN4T"
      }
    },
    {
      "cell_type": "markdown",
      "source": [
        "merge data_ordered với product (cate và sub cate) - theo product id\n",
        "\n",
        "=> merge tiếp với data_customer( customer id, segment) - theo customer id để tìm segment\n",
        "\n",
        "=> chỉ lấy 'Potential loyalist'\n",
        "\n",
        "=> cate/subcate nào có doanh số/lợi nhuận tốt nhất ở mỗi channel.\n",
        "cate/subcate có xu hướng tăng gần đây ở mỗi channel (theo time order)"
      ],
      "metadata": {
        "id": "6Qxhdu-Xok1j"
      }
    },
    {
      "cell_type": "code",
      "source": [
        "data_product = pd.read_excel(io.BytesIO(uploaded['Dataset.xlsx']), 'Product')\n",
        "customer_product = pd.merge(data_ordered, data_product[['Category', 'Sub-Category', 'Product ID']], on = 'Product ID', how = 'left')\n",
        "customer_product = customer_product[['Order ID', 'Customer ID', 'Channel', 'Product ID', 'Sales', 'Quantity', 'Unit Cost', 'Category', 'Sub-Category']]\n",
        "customer_product = customer_product.drop_duplicates(subset = ['Product ID', 'Order ID'])\n",
        "\n"
      ],
      "metadata": {
        "colab": {
          "base_uri": "https://localhost:8080/",
          "height": 423
        },
        "id": "UhfBEwIhfT7h",
        "outputId": "0a1f7ae1-8c6e-4034-a25f-ed907c400599"
      },
      "execution_count": null,
      "outputs": [
        {
          "output_type": "execute_result",
          "data": {
            "text/plain": [
              "            Order ID Customer ID      Channel       Product ID    Sales  \\\n",
              "0     CA-2017-126221    CC-12430  Home Office  OFF-AP-10002457  209.300   \n",
              "1     CA-2017-143259    PO-18865     Consumer  FUR-BO-10003441  323.136   \n",
              "2     CA-2017-143259    PO-18865     Consumer  TEC-PH-10004774   90.930   \n",
              "3     CA-2017-143259    PO-18865     Consumer  OFF-BI-10003684   52.776   \n",
              "4     CA-2017-156720    JM-15580     Consumer  OFF-FA-10003472    3.024   \n",
              "...              ...         ...          ...              ...      ...   \n",
              "9495  CA-2014-141817    MB-18085     Consumer  OFF-AR-10003478   19.536   \n",
              "9496  CA-2014-112326    PO-19195  Home Office  OFF-LA-10003223   11.784   \n",
              "9497  CA-2014-112326    PO-19195  Home Office  OFF-ST-10002743  272.736   \n",
              "9498  CA-2014-112326    PO-19195  Home Office  OFF-BI-10004094    3.540   \n",
              "9499  CA-2014-103800    DP-13000     Consumer  OFF-PA-10000174   16.448   \n",
              "\n",
              "      Quantity  Unit Cost         Category Sub-Category  \n",
              "0            2    76.3945  Office Supplies   Appliances  \n",
              "1            4    77.7546        Furniture    Bookcases  \n",
              "2            7    12.6003       Technology       Phones  \n",
              "3            3    10.9950  Office Supplies      Binders  \n",
              "4            3     1.2096  Office Supplies    Fasteners  \n",
              "...        ...        ...              ...          ...  \n",
              "9495         3     4.8840  Office Supplies          Art  \n",
              "9496         3     2.5041  Office Supplies       Labels  \n",
              "9497         3   112.5036  Office Supplies      Storage  \n",
              "9498         2     4.5135  Office Supplies      Binders  \n",
              "9499         2     5.4484  Office Supplies        Paper  \n",
              "\n",
              "[9186 rows x 9 columns]"
            ],
            "text/html": [
              "\n",
              "\n",
              "  <div id=\"df-d3b424c5-d09c-43c8-8c60-db42f3454ad6\">\n",
              "    <div class=\"colab-df-container\">\n",
              "      <div>\n",
              "<style scoped>\n",
              "    .dataframe tbody tr th:only-of-type {\n",
              "        vertical-align: middle;\n",
              "    }\n",
              "\n",
              "    .dataframe tbody tr th {\n",
              "        vertical-align: top;\n",
              "    }\n",
              "\n",
              "    .dataframe thead th {\n",
              "        text-align: right;\n",
              "    }\n",
              "</style>\n",
              "<table border=\"1\" class=\"dataframe\">\n",
              "  <thead>\n",
              "    <tr style=\"text-align: right;\">\n",
              "      <th></th>\n",
              "      <th>Order ID</th>\n",
              "      <th>Customer ID</th>\n",
              "      <th>Channel</th>\n",
              "      <th>Product ID</th>\n",
              "      <th>Sales</th>\n",
              "      <th>Quantity</th>\n",
              "      <th>Unit Cost</th>\n",
              "      <th>Category</th>\n",
              "      <th>Sub-Category</th>\n",
              "    </tr>\n",
              "  </thead>\n",
              "  <tbody>\n",
              "    <tr>\n",
              "      <th>0</th>\n",
              "      <td>CA-2017-126221</td>\n",
              "      <td>CC-12430</td>\n",
              "      <td>Home Office</td>\n",
              "      <td>OFF-AP-10002457</td>\n",
              "      <td>209.300</td>\n",
              "      <td>2</td>\n",
              "      <td>76.3945</td>\n",
              "      <td>Office Supplies</td>\n",
              "      <td>Appliances</td>\n",
              "    </tr>\n",
              "    <tr>\n",
              "      <th>1</th>\n",
              "      <td>CA-2017-143259</td>\n",
              "      <td>PO-18865</td>\n",
              "      <td>Consumer</td>\n",
              "      <td>FUR-BO-10003441</td>\n",
              "      <td>323.136</td>\n",
              "      <td>4</td>\n",
              "      <td>77.7546</td>\n",
              "      <td>Furniture</td>\n",
              "      <td>Bookcases</td>\n",
              "    </tr>\n",
              "    <tr>\n",
              "      <th>2</th>\n",
              "      <td>CA-2017-143259</td>\n",
              "      <td>PO-18865</td>\n",
              "      <td>Consumer</td>\n",
              "      <td>TEC-PH-10004774</td>\n",
              "      <td>90.930</td>\n",
              "      <td>7</td>\n",
              "      <td>12.6003</td>\n",
              "      <td>Technology</td>\n",
              "      <td>Phones</td>\n",
              "    </tr>\n",
              "    <tr>\n",
              "      <th>3</th>\n",
              "      <td>CA-2017-143259</td>\n",
              "      <td>PO-18865</td>\n",
              "      <td>Consumer</td>\n",
              "      <td>OFF-BI-10003684</td>\n",
              "      <td>52.776</td>\n",
              "      <td>3</td>\n",
              "      <td>10.9950</td>\n",
              "      <td>Office Supplies</td>\n",
              "      <td>Binders</td>\n",
              "    </tr>\n",
              "    <tr>\n",
              "      <th>4</th>\n",
              "      <td>CA-2017-156720</td>\n",
              "      <td>JM-15580</td>\n",
              "      <td>Consumer</td>\n",
              "      <td>OFF-FA-10003472</td>\n",
              "      <td>3.024</td>\n",
              "      <td>3</td>\n",
              "      <td>1.2096</td>\n",
              "      <td>Office Supplies</td>\n",
              "      <td>Fasteners</td>\n",
              "    </tr>\n",
              "    <tr>\n",
              "      <th>...</th>\n",
              "      <td>...</td>\n",
              "      <td>...</td>\n",
              "      <td>...</td>\n",
              "      <td>...</td>\n",
              "      <td>...</td>\n",
              "      <td>...</td>\n",
              "      <td>...</td>\n",
              "      <td>...</td>\n",
              "      <td>...</td>\n",
              "    </tr>\n",
              "    <tr>\n",
              "      <th>9495</th>\n",
              "      <td>CA-2014-141817</td>\n",
              "      <td>MB-18085</td>\n",
              "      <td>Consumer</td>\n",
              "      <td>OFF-AR-10003478</td>\n",
              "      <td>19.536</td>\n",
              "      <td>3</td>\n",
              "      <td>4.8840</td>\n",
              "      <td>Office Supplies</td>\n",
              "      <td>Art</td>\n",
              "    </tr>\n",
              "    <tr>\n",
              "      <th>9496</th>\n",
              "      <td>CA-2014-112326</td>\n",
              "      <td>PO-19195</td>\n",
              "      <td>Home Office</td>\n",
              "      <td>OFF-LA-10003223</td>\n",
              "      <td>11.784</td>\n",
              "      <td>3</td>\n",
              "      <td>2.5041</td>\n",
              "      <td>Office Supplies</td>\n",
              "      <td>Labels</td>\n",
              "    </tr>\n",
              "    <tr>\n",
              "      <th>9497</th>\n",
              "      <td>CA-2014-112326</td>\n",
              "      <td>PO-19195</td>\n",
              "      <td>Home Office</td>\n",
              "      <td>OFF-ST-10002743</td>\n",
              "      <td>272.736</td>\n",
              "      <td>3</td>\n",
              "      <td>112.5036</td>\n",
              "      <td>Office Supplies</td>\n",
              "      <td>Storage</td>\n",
              "    </tr>\n",
              "    <tr>\n",
              "      <th>9498</th>\n",
              "      <td>CA-2014-112326</td>\n",
              "      <td>PO-19195</td>\n",
              "      <td>Home Office</td>\n",
              "      <td>OFF-BI-10004094</td>\n",
              "      <td>3.540</td>\n",
              "      <td>2</td>\n",
              "      <td>4.5135</td>\n",
              "      <td>Office Supplies</td>\n",
              "      <td>Binders</td>\n",
              "    </tr>\n",
              "    <tr>\n",
              "      <th>9499</th>\n",
              "      <td>CA-2014-103800</td>\n",
              "      <td>DP-13000</td>\n",
              "      <td>Consumer</td>\n",
              "      <td>OFF-PA-10000174</td>\n",
              "      <td>16.448</td>\n",
              "      <td>2</td>\n",
              "      <td>5.4484</td>\n",
              "      <td>Office Supplies</td>\n",
              "      <td>Paper</td>\n",
              "    </tr>\n",
              "  </tbody>\n",
              "</table>\n",
              "<p>9186 rows × 9 columns</p>\n",
              "</div>\n",
              "      <button class=\"colab-df-convert\" onclick=\"convertToInteractive('df-d3b424c5-d09c-43c8-8c60-db42f3454ad6')\"\n",
              "              title=\"Convert this dataframe to an interactive table.\"\n",
              "              style=\"display:none;\">\n",
              "\n",
              "  <svg xmlns=\"http://www.w3.org/2000/svg\" height=\"24px\"viewBox=\"0 0 24 24\"\n",
              "       width=\"24px\">\n",
              "    <path d=\"M0 0h24v24H0V0z\" fill=\"none\"/>\n",
              "    <path d=\"M18.56 5.44l.94 2.06.94-2.06 2.06-.94-2.06-.94-.94-2.06-.94 2.06-2.06.94zm-11 1L8.5 8.5l.94-2.06 2.06-.94-2.06-.94L8.5 2.5l-.94 2.06-2.06.94zm10 10l.94 2.06.94-2.06 2.06-.94-2.06-.94-.94-2.06-.94 2.06-2.06.94z\"/><path d=\"M17.41 7.96l-1.37-1.37c-.4-.4-.92-.59-1.43-.59-.52 0-1.04.2-1.43.59L10.3 9.45l-7.72 7.72c-.78.78-.78 2.05 0 2.83L4 21.41c.39.39.9.59 1.41.59.51 0 1.02-.2 1.41-.59l7.78-7.78 2.81-2.81c.8-.78.8-2.07 0-2.86zM5.41 20L4 18.59l7.72-7.72 1.47 1.35L5.41 20z\"/>\n",
              "  </svg>\n",
              "      </button>\n",
              "\n",
              "\n",
              "\n",
              "    <div id=\"df-46edc215-0d48-4e51-9947-02de4c4bdf38\">\n",
              "      <button class=\"colab-df-quickchart\" onclick=\"quickchart('df-46edc215-0d48-4e51-9947-02de4c4bdf38')\"\n",
              "              title=\"Suggest charts.\"\n",
              "              style=\"display:none;\">\n",
              "\n",
              "<svg xmlns=\"http://www.w3.org/2000/svg\" height=\"24px\"viewBox=\"0 0 24 24\"\n",
              "     width=\"24px\">\n",
              "    <g>\n",
              "        <path d=\"M19 3H5c-1.1 0-2 .9-2 2v14c0 1.1.9 2 2 2h14c1.1 0 2-.9 2-2V5c0-1.1-.9-2-2-2zM9 17H7v-7h2v7zm4 0h-2V7h2v10zm4 0h-2v-4h2v4z\"/>\n",
              "    </g>\n",
              "</svg>\n",
              "      </button>\n",
              "    </div>\n",
              "\n",
              "<style>\n",
              "  .colab-df-quickchart {\n",
              "    background-color: #E8F0FE;\n",
              "    border: none;\n",
              "    border-radius: 50%;\n",
              "    cursor: pointer;\n",
              "    display: none;\n",
              "    fill: #1967D2;\n",
              "    height: 32px;\n",
              "    padding: 0 0 0 0;\n",
              "    width: 32px;\n",
              "  }\n",
              "\n",
              "  .colab-df-quickchart:hover {\n",
              "    background-color: #E2EBFA;\n",
              "    box-shadow: 0px 1px 2px rgba(60, 64, 67, 0.3), 0px 1px 3px 1px rgba(60, 64, 67, 0.15);\n",
              "    fill: #174EA6;\n",
              "  }\n",
              "\n",
              "  [theme=dark] .colab-df-quickchart {\n",
              "    background-color: #3B4455;\n",
              "    fill: #D2E3FC;\n",
              "  }\n",
              "\n",
              "  [theme=dark] .colab-df-quickchart:hover {\n",
              "    background-color: #434B5C;\n",
              "    box-shadow: 0px 1px 3px 1px rgba(0, 0, 0, 0.15);\n",
              "    filter: drop-shadow(0px 1px 2px rgba(0, 0, 0, 0.3));\n",
              "    fill: #FFFFFF;\n",
              "  }\n",
              "</style>\n",
              "\n",
              "    <script>\n",
              "      async function quickchart(key) {\n",
              "        const containerElement = document.querySelector('#' + key);\n",
              "        const charts = await google.colab.kernel.invokeFunction(\n",
              "            'suggestCharts', [key], {});\n",
              "      }\n",
              "    </script>\n",
              "\n",
              "      <script>\n",
              "\n",
              "function displayQuickchartButton(domScope) {\n",
              "  let quickchartButtonEl =\n",
              "    domScope.querySelector('#df-46edc215-0d48-4e51-9947-02de4c4bdf38 button.colab-df-quickchart');\n",
              "  quickchartButtonEl.style.display =\n",
              "    google.colab.kernel.accessAllowed ? 'block' : 'none';\n",
              "}\n",
              "\n",
              "        displayQuickchartButton(document);\n",
              "      </script>\n",
              "      <style>\n",
              "    .colab-df-container {\n",
              "      display:flex;\n",
              "      flex-wrap:wrap;\n",
              "      gap: 12px;\n",
              "    }\n",
              "\n",
              "    .colab-df-convert {\n",
              "      background-color: #E8F0FE;\n",
              "      border: none;\n",
              "      border-radius: 50%;\n",
              "      cursor: pointer;\n",
              "      display: none;\n",
              "      fill: #1967D2;\n",
              "      height: 32px;\n",
              "      padding: 0 0 0 0;\n",
              "      width: 32px;\n",
              "    }\n",
              "\n",
              "    .colab-df-convert:hover {\n",
              "      background-color: #E2EBFA;\n",
              "      box-shadow: 0px 1px 2px rgba(60, 64, 67, 0.3), 0px 1px 3px 1px rgba(60, 64, 67, 0.15);\n",
              "      fill: #174EA6;\n",
              "    }\n",
              "\n",
              "    [theme=dark] .colab-df-convert {\n",
              "      background-color: #3B4455;\n",
              "      fill: #D2E3FC;\n",
              "    }\n",
              "\n",
              "    [theme=dark] .colab-df-convert:hover {\n",
              "      background-color: #434B5C;\n",
              "      box-shadow: 0px 1px 3px 1px rgba(0, 0, 0, 0.15);\n",
              "      filter: drop-shadow(0px 1px 2px rgba(0, 0, 0, 0.3));\n",
              "      fill: #FFFFFF;\n",
              "    }\n",
              "  </style>\n",
              "\n",
              "      <script>\n",
              "        const buttonEl =\n",
              "          document.querySelector('#df-d3b424c5-d09c-43c8-8c60-db42f3454ad6 button.colab-df-convert');\n",
              "        buttonEl.style.display =\n",
              "          google.colab.kernel.accessAllowed ? 'block' : 'none';\n",
              "\n",
              "        async function convertToInteractive(key) {\n",
              "          const element = document.querySelector('#df-d3b424c5-d09c-43c8-8c60-db42f3454ad6');\n",
              "          const dataTable =\n",
              "            await google.colab.kernel.invokeFunction('convertToInteractive',\n",
              "                                                     [key], {});\n",
              "          if (!dataTable) return;\n",
              "\n",
              "          const docLinkHtml = 'Like what you see? Visit the ' +\n",
              "            '<a target=\"_blank\" href=https://colab.research.google.com/notebooks/data_table.ipynb>data table notebook</a>'\n",
              "            + ' to learn more about interactive tables.';\n",
              "          element.innerHTML = '';\n",
              "          dataTable['output_type'] = 'display_data';\n",
              "          await google.colab.output.renderOutput(dataTable, element);\n",
              "          const docLink = document.createElement('div');\n",
              "          docLink.innerHTML = docLinkHtml;\n",
              "          element.appendChild(docLink);\n",
              "        }\n",
              "      </script>\n",
              "    </div>\n",
              "  </div>\n"
            ]
          },
          "metadata": {},
          "execution_count": 22
        }
      ]
    },
    {
      "cell_type": "code",
      "source": [
        "customer_product_df = pd.merge(customer_product, data_customer[['Customer ID', 'Segment']], on = 'Customer ID', how = 'left')\n",
        "Potential_product = customer_product_df[customer_product_df['Segment'] == 'Potential Loyalist']\n",
        "Potential_product['Total Cost'] = Potential_product['Quantity'] * Potential_product['Unit Cost']\n",
        "Potential_product['Profit'] = Potential_product['Sales'] - Potential_product['Total Cost']\n"
      ],
      "metadata": {
        "colab": {
          "base_uri": "https://localhost:8080/",
          "height": 632
        },
        "id": "Iab3ccC9l7Py",
        "outputId": "5080a79d-dea9-4d36-bd84-35091c73c427"
      },
      "execution_count": null,
      "outputs": [
        {
          "output_type": "stream",
          "name": "stderr",
          "text": [
            "<ipython-input-32-e953977e51c5>:3: SettingWithCopyWarning: \n",
            "A value is trying to be set on a copy of a slice from a DataFrame.\n",
            "Try using .loc[row_indexer,col_indexer] = value instead\n",
            "\n",
            "See the caveats in the documentation: https://pandas.pydata.org/pandas-docs/stable/user_guide/indexing.html#returning-a-view-versus-a-copy\n",
            "  Potential_product['Total Cost'] = Potential_product['Quantity'] * Potential_product['Unit Cost']\n",
            "<ipython-input-32-e953977e51c5>:4: SettingWithCopyWarning: \n",
            "A value is trying to be set on a copy of a slice from a DataFrame.\n",
            "Try using .loc[row_indexer,col_indexer] = value instead\n",
            "\n",
            "See the caveats in the documentation: https://pandas.pydata.org/pandas-docs/stable/user_guide/indexing.html#returning-a-view-versus-a-copy\n",
            "  Potential_product['Profit'] = Potential_product['Sales'] - Potential_product['Total Cost']\n"
          ]
        },
        {
          "output_type": "execute_result",
          "data": {
            "text/plain": [
              "            Order ID Customer ID   Channel       Product ID    Sales  \\\n",
              "1     CA-2017-143259    PO-18865  Consumer  FUR-BO-10003441  323.136   \n",
              "2     CA-2017-143259    PO-18865  Consumer  TEC-PH-10004774   90.930   \n",
              "3     CA-2017-143259    PO-18865  Consumer  OFF-BI-10003684   52.776   \n",
              "40    CA-2017-163510    JW-15955  Consumer  OFF-ST-10000563   95.940   \n",
              "41    CA-2017-163510    JW-15955  Consumer  FUR-CH-10001146  304.450   \n",
              "...              ...         ...       ...              ...      ...   \n",
              "9148  CA-2014-115791    DL-13315  Consumer  FUR-FU-10001095  127.104   \n",
              "9149  CA-2014-115791    DL-13315  Consumer  TEC-PH-10004614  124.200   \n",
              "9150  CA-2014-115791    DL-13315  Consumer  OFF-BI-10001575   18.588   \n",
              "9151  CA-2014-115791    DL-13315  Consumer  OFF-LA-10001074   30.072   \n",
              "9181  CA-2014-141817    MB-18085  Consumer  OFF-AR-10003478   19.536   \n",
              "\n",
              "      Quantity  Unit Cost         Category Sub-Category             Segment  \\\n",
              "1            4    77.7546        Furniture    Bookcases  Potential Loyalist   \n",
              "2            7    12.6003       Technology       Phones  Potential Loyalist   \n",
              "3            3    10.9950  Office Supplies      Binders  Potential Loyalist   \n",
              "40           3    28.7820  Office Supplies      Storage  Potential Loyalist   \n",
              "41           5    45.6675        Furniture       Chairs  Potential Loyalist   \n",
              "...        ...        ...              ...          ...                 ...   \n",
              "9148         6    16.4176        Furniture  Furnishings  Potential Loyalist   \n",
              "9149         3    51.7500       Technology       Phones  Potential Loyalist   \n",
              "9150         2    16.1096  Office Supplies      Binders  Potential Loyalist   \n",
              "9151         3     6.6409  Office Supplies       Labels  Potential Loyalist   \n",
              "9181         3     4.8840  Office Supplies          Art  Potential Loyalist   \n",
              "\n",
              "      Total Cost   Profit  \n",
              "1       311.0184  12.1176  \n",
              "2        88.2021   2.7279  \n",
              "3        32.9850  19.7910  \n",
              "40       86.3460   9.5940  \n",
              "41      228.3375  76.1125  \n",
              "...          ...      ...  \n",
              "9148     98.5056  28.5984  \n",
              "9149    155.2500 -31.0500  \n",
              "9150     32.2192 -13.6312  \n",
              "9151     19.9227  10.1493  \n",
              "9181     14.6520   4.8840  \n",
              "\n",
              "[960 rows x 12 columns]"
            ],
            "text/html": [
              "\n",
              "\n",
              "  <div id=\"df-f2b31641-24d7-4d9f-9a7c-6b5ef006f25d\">\n",
              "    <div class=\"colab-df-container\">\n",
              "      <div>\n",
              "<style scoped>\n",
              "    .dataframe tbody tr th:only-of-type {\n",
              "        vertical-align: middle;\n",
              "    }\n",
              "\n",
              "    .dataframe tbody tr th {\n",
              "        vertical-align: top;\n",
              "    }\n",
              "\n",
              "    .dataframe thead th {\n",
              "        text-align: right;\n",
              "    }\n",
              "</style>\n",
              "<table border=\"1\" class=\"dataframe\">\n",
              "  <thead>\n",
              "    <tr style=\"text-align: right;\">\n",
              "      <th></th>\n",
              "      <th>Order ID</th>\n",
              "      <th>Customer ID</th>\n",
              "      <th>Channel</th>\n",
              "      <th>Product ID</th>\n",
              "      <th>Sales</th>\n",
              "      <th>Quantity</th>\n",
              "      <th>Unit Cost</th>\n",
              "      <th>Category</th>\n",
              "      <th>Sub-Category</th>\n",
              "      <th>Segment</th>\n",
              "      <th>Total Cost</th>\n",
              "      <th>Profit</th>\n",
              "    </tr>\n",
              "  </thead>\n",
              "  <tbody>\n",
              "    <tr>\n",
              "      <th>1</th>\n",
              "      <td>CA-2017-143259</td>\n",
              "      <td>PO-18865</td>\n",
              "      <td>Consumer</td>\n",
              "      <td>FUR-BO-10003441</td>\n",
              "      <td>323.136</td>\n",
              "      <td>4</td>\n",
              "      <td>77.7546</td>\n",
              "      <td>Furniture</td>\n",
              "      <td>Bookcases</td>\n",
              "      <td>Potential Loyalist</td>\n",
              "      <td>311.0184</td>\n",
              "      <td>12.1176</td>\n",
              "    </tr>\n",
              "    <tr>\n",
              "      <th>2</th>\n",
              "      <td>CA-2017-143259</td>\n",
              "      <td>PO-18865</td>\n",
              "      <td>Consumer</td>\n",
              "      <td>TEC-PH-10004774</td>\n",
              "      <td>90.930</td>\n",
              "      <td>7</td>\n",
              "      <td>12.6003</td>\n",
              "      <td>Technology</td>\n",
              "      <td>Phones</td>\n",
              "      <td>Potential Loyalist</td>\n",
              "      <td>88.2021</td>\n",
              "      <td>2.7279</td>\n",
              "    </tr>\n",
              "    <tr>\n",
              "      <th>3</th>\n",
              "      <td>CA-2017-143259</td>\n",
              "      <td>PO-18865</td>\n",
              "      <td>Consumer</td>\n",
              "      <td>OFF-BI-10003684</td>\n",
              "      <td>52.776</td>\n",
              "      <td>3</td>\n",
              "      <td>10.9950</td>\n",
              "      <td>Office Supplies</td>\n",
              "      <td>Binders</td>\n",
              "      <td>Potential Loyalist</td>\n",
              "      <td>32.9850</td>\n",
              "      <td>19.7910</td>\n",
              "    </tr>\n",
              "    <tr>\n",
              "      <th>40</th>\n",
              "      <td>CA-2017-163510</td>\n",
              "      <td>JW-15955</td>\n",
              "      <td>Consumer</td>\n",
              "      <td>OFF-ST-10000563</td>\n",
              "      <td>95.940</td>\n",
              "      <td>3</td>\n",
              "      <td>28.7820</td>\n",
              "      <td>Office Supplies</td>\n",
              "      <td>Storage</td>\n",
              "      <td>Potential Loyalist</td>\n",
              "      <td>86.3460</td>\n",
              "      <td>9.5940</td>\n",
              "    </tr>\n",
              "    <tr>\n",
              "      <th>41</th>\n",
              "      <td>CA-2017-163510</td>\n",
              "      <td>JW-15955</td>\n",
              "      <td>Consumer</td>\n",
              "      <td>FUR-CH-10001146</td>\n",
              "      <td>304.450</td>\n",
              "      <td>5</td>\n",
              "      <td>45.6675</td>\n",
              "      <td>Furniture</td>\n",
              "      <td>Chairs</td>\n",
              "      <td>Potential Loyalist</td>\n",
              "      <td>228.3375</td>\n",
              "      <td>76.1125</td>\n",
              "    </tr>\n",
              "    <tr>\n",
              "      <th>...</th>\n",
              "      <td>...</td>\n",
              "      <td>...</td>\n",
              "      <td>...</td>\n",
              "      <td>...</td>\n",
              "      <td>...</td>\n",
              "      <td>...</td>\n",
              "      <td>...</td>\n",
              "      <td>...</td>\n",
              "      <td>...</td>\n",
              "      <td>...</td>\n",
              "      <td>...</td>\n",
              "      <td>...</td>\n",
              "    </tr>\n",
              "    <tr>\n",
              "      <th>9148</th>\n",
              "      <td>CA-2014-115791</td>\n",
              "      <td>DL-13315</td>\n",
              "      <td>Consumer</td>\n",
              "      <td>FUR-FU-10001095</td>\n",
              "      <td>127.104</td>\n",
              "      <td>6</td>\n",
              "      <td>16.4176</td>\n",
              "      <td>Furniture</td>\n",
              "      <td>Furnishings</td>\n",
              "      <td>Potential Loyalist</td>\n",
              "      <td>98.5056</td>\n",
              "      <td>28.5984</td>\n",
              "    </tr>\n",
              "    <tr>\n",
              "      <th>9149</th>\n",
              "      <td>CA-2014-115791</td>\n",
              "      <td>DL-13315</td>\n",
              "      <td>Consumer</td>\n",
              "      <td>TEC-PH-10004614</td>\n",
              "      <td>124.200</td>\n",
              "      <td>3</td>\n",
              "      <td>51.7500</td>\n",
              "      <td>Technology</td>\n",
              "      <td>Phones</td>\n",
              "      <td>Potential Loyalist</td>\n",
              "      <td>155.2500</td>\n",
              "      <td>-31.0500</td>\n",
              "    </tr>\n",
              "    <tr>\n",
              "      <th>9150</th>\n",
              "      <td>CA-2014-115791</td>\n",
              "      <td>DL-13315</td>\n",
              "      <td>Consumer</td>\n",
              "      <td>OFF-BI-10001575</td>\n",
              "      <td>18.588</td>\n",
              "      <td>2</td>\n",
              "      <td>16.1096</td>\n",
              "      <td>Office Supplies</td>\n",
              "      <td>Binders</td>\n",
              "      <td>Potential Loyalist</td>\n",
              "      <td>32.2192</td>\n",
              "      <td>-13.6312</td>\n",
              "    </tr>\n",
              "    <tr>\n",
              "      <th>9151</th>\n",
              "      <td>CA-2014-115791</td>\n",
              "      <td>DL-13315</td>\n",
              "      <td>Consumer</td>\n",
              "      <td>OFF-LA-10001074</td>\n",
              "      <td>30.072</td>\n",
              "      <td>3</td>\n",
              "      <td>6.6409</td>\n",
              "      <td>Office Supplies</td>\n",
              "      <td>Labels</td>\n",
              "      <td>Potential Loyalist</td>\n",
              "      <td>19.9227</td>\n",
              "      <td>10.1493</td>\n",
              "    </tr>\n",
              "    <tr>\n",
              "      <th>9181</th>\n",
              "      <td>CA-2014-141817</td>\n",
              "      <td>MB-18085</td>\n",
              "      <td>Consumer</td>\n",
              "      <td>OFF-AR-10003478</td>\n",
              "      <td>19.536</td>\n",
              "      <td>3</td>\n",
              "      <td>4.8840</td>\n",
              "      <td>Office Supplies</td>\n",
              "      <td>Art</td>\n",
              "      <td>Potential Loyalist</td>\n",
              "      <td>14.6520</td>\n",
              "      <td>4.8840</td>\n",
              "    </tr>\n",
              "  </tbody>\n",
              "</table>\n",
              "<p>960 rows × 12 columns</p>\n",
              "</div>\n",
              "      <button class=\"colab-df-convert\" onclick=\"convertToInteractive('df-f2b31641-24d7-4d9f-9a7c-6b5ef006f25d')\"\n",
              "              title=\"Convert this dataframe to an interactive table.\"\n",
              "              style=\"display:none;\">\n",
              "\n",
              "  <svg xmlns=\"http://www.w3.org/2000/svg\" height=\"24px\"viewBox=\"0 0 24 24\"\n",
              "       width=\"24px\">\n",
              "    <path d=\"M0 0h24v24H0V0z\" fill=\"none\"/>\n",
              "    <path d=\"M18.56 5.44l.94 2.06.94-2.06 2.06-.94-2.06-.94-.94-2.06-.94 2.06-2.06.94zm-11 1L8.5 8.5l.94-2.06 2.06-.94-2.06-.94L8.5 2.5l-.94 2.06-2.06.94zm10 10l.94 2.06.94-2.06 2.06-.94-2.06-.94-.94-2.06-.94 2.06-2.06.94z\"/><path d=\"M17.41 7.96l-1.37-1.37c-.4-.4-.92-.59-1.43-.59-.52 0-1.04.2-1.43.59L10.3 9.45l-7.72 7.72c-.78.78-.78 2.05 0 2.83L4 21.41c.39.39.9.59 1.41.59.51 0 1.02-.2 1.41-.59l7.78-7.78 2.81-2.81c.8-.78.8-2.07 0-2.86zM5.41 20L4 18.59l7.72-7.72 1.47 1.35L5.41 20z\"/>\n",
              "  </svg>\n",
              "      </button>\n",
              "\n",
              "\n",
              "\n",
              "    <div id=\"df-b3ded78d-e44a-45a5-9a55-7ed1e2d917ad\">\n",
              "      <button class=\"colab-df-quickchart\" onclick=\"quickchart('df-b3ded78d-e44a-45a5-9a55-7ed1e2d917ad')\"\n",
              "              title=\"Suggest charts.\"\n",
              "              style=\"display:none;\">\n",
              "\n",
              "<svg xmlns=\"http://www.w3.org/2000/svg\" height=\"24px\"viewBox=\"0 0 24 24\"\n",
              "     width=\"24px\">\n",
              "    <g>\n",
              "        <path d=\"M19 3H5c-1.1 0-2 .9-2 2v14c0 1.1.9 2 2 2h14c1.1 0 2-.9 2-2V5c0-1.1-.9-2-2-2zM9 17H7v-7h2v7zm4 0h-2V7h2v10zm4 0h-2v-4h2v4z\"/>\n",
              "    </g>\n",
              "</svg>\n",
              "      </button>\n",
              "    </div>\n",
              "\n",
              "<style>\n",
              "  .colab-df-quickchart {\n",
              "    background-color: #E8F0FE;\n",
              "    border: none;\n",
              "    border-radius: 50%;\n",
              "    cursor: pointer;\n",
              "    display: none;\n",
              "    fill: #1967D2;\n",
              "    height: 32px;\n",
              "    padding: 0 0 0 0;\n",
              "    width: 32px;\n",
              "  }\n",
              "\n",
              "  .colab-df-quickchart:hover {\n",
              "    background-color: #E2EBFA;\n",
              "    box-shadow: 0px 1px 2px rgba(60, 64, 67, 0.3), 0px 1px 3px 1px rgba(60, 64, 67, 0.15);\n",
              "    fill: #174EA6;\n",
              "  }\n",
              "\n",
              "  [theme=dark] .colab-df-quickchart {\n",
              "    background-color: #3B4455;\n",
              "    fill: #D2E3FC;\n",
              "  }\n",
              "\n",
              "  [theme=dark] .colab-df-quickchart:hover {\n",
              "    background-color: #434B5C;\n",
              "    box-shadow: 0px 1px 3px 1px rgba(0, 0, 0, 0.15);\n",
              "    filter: drop-shadow(0px 1px 2px rgba(0, 0, 0, 0.3));\n",
              "    fill: #FFFFFF;\n",
              "  }\n",
              "</style>\n",
              "\n",
              "    <script>\n",
              "      async function quickchart(key) {\n",
              "        const containerElement = document.querySelector('#' + key);\n",
              "        const charts = await google.colab.kernel.invokeFunction(\n",
              "            'suggestCharts', [key], {});\n",
              "      }\n",
              "    </script>\n",
              "\n",
              "      <script>\n",
              "\n",
              "function displayQuickchartButton(domScope) {\n",
              "  let quickchartButtonEl =\n",
              "    domScope.querySelector('#df-b3ded78d-e44a-45a5-9a55-7ed1e2d917ad button.colab-df-quickchart');\n",
              "  quickchartButtonEl.style.display =\n",
              "    google.colab.kernel.accessAllowed ? 'block' : 'none';\n",
              "}\n",
              "\n",
              "        displayQuickchartButton(document);\n",
              "      </script>\n",
              "      <style>\n",
              "    .colab-df-container {\n",
              "      display:flex;\n",
              "      flex-wrap:wrap;\n",
              "      gap: 12px;\n",
              "    }\n",
              "\n",
              "    .colab-df-convert {\n",
              "      background-color: #E8F0FE;\n",
              "      border: none;\n",
              "      border-radius: 50%;\n",
              "      cursor: pointer;\n",
              "      display: none;\n",
              "      fill: #1967D2;\n",
              "      height: 32px;\n",
              "      padding: 0 0 0 0;\n",
              "      width: 32px;\n",
              "    }\n",
              "\n",
              "    .colab-df-convert:hover {\n",
              "      background-color: #E2EBFA;\n",
              "      box-shadow: 0px 1px 2px rgba(60, 64, 67, 0.3), 0px 1px 3px 1px rgba(60, 64, 67, 0.15);\n",
              "      fill: #174EA6;\n",
              "    }\n",
              "\n",
              "    [theme=dark] .colab-df-convert {\n",
              "      background-color: #3B4455;\n",
              "      fill: #D2E3FC;\n",
              "    }\n",
              "\n",
              "    [theme=dark] .colab-df-convert:hover {\n",
              "      background-color: #434B5C;\n",
              "      box-shadow: 0px 1px 3px 1px rgba(0, 0, 0, 0.15);\n",
              "      filter: drop-shadow(0px 1px 2px rgba(0, 0, 0, 0.3));\n",
              "      fill: #FFFFFF;\n",
              "    }\n",
              "  </style>\n",
              "\n",
              "      <script>\n",
              "        const buttonEl =\n",
              "          document.querySelector('#df-f2b31641-24d7-4d9f-9a7c-6b5ef006f25d button.colab-df-convert');\n",
              "        buttonEl.style.display =\n",
              "          google.colab.kernel.accessAllowed ? 'block' : 'none';\n",
              "\n",
              "        async function convertToInteractive(key) {\n",
              "          const element = document.querySelector('#df-f2b31641-24d7-4d9f-9a7c-6b5ef006f25d');\n",
              "          const dataTable =\n",
              "            await google.colab.kernel.invokeFunction('convertToInteractive',\n",
              "                                                     [key], {});\n",
              "          if (!dataTable) return;\n",
              "\n",
              "          const docLinkHtml = 'Like what you see? Visit the ' +\n",
              "            '<a target=\"_blank\" href=https://colab.research.google.com/notebooks/data_table.ipynb>data table notebook</a>'\n",
              "            + ' to learn more about interactive tables.';\n",
              "          element.innerHTML = '';\n",
              "          dataTable['output_type'] = 'display_data';\n",
              "          await google.colab.output.renderOutput(dataTable, element);\n",
              "          const docLink = document.createElement('div');\n",
              "          docLink.innerHTML = docLinkHtml;\n",
              "          element.appendChild(docLink);\n",
              "        }\n",
              "      </script>\n",
              "    </div>\n",
              "  </div>\n"
            ]
          },
          "metadata": {},
          "execution_count": 32
        }
      ]
    },
    {
      "cell_type": "code",
      "source": [
        "sns.barplot(data = Potential_product, x = 'Channel', y = 'Sales', estimator = sum, hue = 'Category')\n"
      ],
      "metadata": {
        "colab": {
          "base_uri": "https://localhost:8080/",
          "height": 466
        },
        "id": "tEayIfIZxBF_",
        "outputId": "269b0ddc-72a5-43f6-a6c0-8114f6ee9054"
      },
      "execution_count": null,
      "outputs": [
        {
          "output_type": "execute_result",
          "data": {
            "text/plain": [
              "<Axes: xlabel='Channel', ylabel='Sales'>"
            ]
          },
          "metadata": {},
          "execution_count": 35
        },
        {
          "output_type": "display_data",
          "data": {
            "text/plain": [
              "<Figure size 640x480 with 1 Axes>"
            ],
            "image/png": "[encoded data removed]"
          },
          "metadata": {}
        }
      ]
    },
    {
      "cell_type": "markdown",
      "source": [
        "- Với channel Consumer: Nhóm sp Furrniture có Revenue cao nhất -> Office Supplies -> Technology\n",
        "- Với channel Corporate: Nhóm sp Furrniture có Revenue cao nhất -> Office Supplies -> Technology\n",
        "- Với channel Home Office: Nhóm sp Office Supplies có Revenue cao nhất -> Furniture -> Technology"
      ],
      "metadata": {
        "id": "jnZQiuiBzeS-"
      }
    },
    {
      "cell_type": "code",
      "source": [
        "sns.barplot(data = Potential_product, x = 'Channel', y = 'Profit', estimator = sum, hue = 'Category')"
      ],
      "metadata": {
        "colab": {
          "base_uri": "https://localhost:8080/",
          "height": 466
        },
        "id": "JZrXEUxlzEub",
        "outputId": "f93dde79-c3f1-4388-ffb7-6515c3f2d4f3"
      },
      "execution_count": null,
      "outputs": [
        {
          "output_type": "execute_result",
          "data": {
            "text/plain": [
              "<Axes: xlabel='Channel', ylabel='Profit'>"
            ]
          },
          "metadata": {},
          "execution_count": 36
        },
        {
          "output_type": "display_data",
          "data": {
            "text/plain": [
              "<Figure size 640x480 with 1 Axes>"
            ],
            "image/png": "[encoded data removed]"
          },
          "metadata": {}
        }
      ]
    },
    {
      "cell_type": "markdown",
      "source": [
        "- Với channel Consumer: Nhóm sp Technology mang lại lợi nhuận cao nhất -> Office Supplies -> Furniture\n",
        "- Với channel Corporate: Nhóm sp Office Supplies mang lại lợi nhuận cao nhất -> Technology -> Furniture\n",
        "- Với channel Home Office: Nhóm sp Technology mang lại lợi nhuận cao nhất -> Office Furniture -> Office Supplies"
      ],
      "metadata": {
        "id": "TlU5XnhH0Sb4"
      }
    },
    {
      "cell_type": "markdown",
      "source": [
        "=> Đối với channel **Consumer**\n",
        "- Mặc dù nhóm sp Furniture có Revenue cao nhất nhưng mang lại Profit thấp nhất -> Bộ phận Marketing cần cân nhắc ko nên lựa chọn nhóm sp này với chương trình giảm giá\n",
        "- Nhóm sp **Technology** có Revenue thấp hơn nhưng mang lại lợi nhuận tốt -> nên tập trung vào sp này trong chương trình sắp tới\n",
        "- Nhóm sp Office Suppies có revenue khá tốt, profit trung bình -> có thể cân nhắc nhóm sp này"
      ],
      "metadata": {
        "id": "P3l2kxdc1C73"
      }
    },
    {
      "cell_type": "markdown",
      "source": [
        "=> Đối với nhóm **Corporate**:\n",
        "Nên tập trung chính vào **Office Supplies** vì vừa có revenue tốt, vừa có profit cao nhất => có thể cân nhắc thêm nhóm sp Technology"
      ],
      "metadata": {
        "id": "M_sR9yR-3HRJ"
      }
    },
    {
      "cell_type": "markdown",
      "source": [
        "**Phân tích sâu Với mỗi channel, ở mỗi nhóm sp thì có sub-cate nào nên được đẩy mạnh ko??**"
      ],
      "metadata": {
        "id": "hrzkC1l89cnn"
      }
    },
    {
      "cell_type": "markdown",
      "source": [
        "1. Channel consumer - Nhóm sp Technology"
      ],
      "metadata": {
        "id": "W6ONPTH39zH8"
      }
    },
    {
      "cell_type": "code",
      "source": [
        "\n",
        "Potential_customer_product = Potential_product[Potential_product['Channel'] == 'Consumer']\n",
        "a = Potential_customer_product[Potential_customer_product['Category'] == 'Technology']\n",
        "sns.barplot(data = a, x = 'Sub-Category', y = 'Sales', estimator = sum)"
      ],
      "metadata": {
        "colab": {
          "base_uri": "https://localhost:8080/",
          "height": 466
        },
        "id": "OJSS9Fci82vI",
        "outputId": "3563130e-0016-432c-899d-3251b2094b83"
      },
      "execution_count": null,
      "outputs": [
        {
          "output_type": "execute_result",
          "data": {
            "text/plain": [
              "<Axes: xlabel='Sub-Category', ylabel='Sales'>"
            ]
          },
          "metadata": {},
          "execution_count": 46
        },
        {
          "output_type": "display_data",
          "data": {
            "text/plain": [
              "<Figure size 640x480 with 1 Axes>"
            ],
            "image/png": "[encoded data removed]"
          },
          "metadata": {}
        }
      ]
    },
    {
      "cell_type": "code",
      "source": [
        "sns.barplot(data = a, x = 'Sub-Category', y = 'Profit', estimator = sum)"
      ],
      "metadata": {
        "colab": {
          "base_uri": "https://localhost:8080/",
          "height": 466
        },
        "id": "kDwrMhBJ9NG7",
        "outputId": "0fa49b0b-2bf1-4efd-a168-684c6a6f9544"
      },
      "execution_count": null,
      "outputs": [
        {
          "output_type": "execute_result",
          "data": {
            "text/plain": [
              "<Axes: xlabel='Sub-Category', ylabel='Profit'>"
            ]
          },
          "metadata": {},
          "execution_count": 47
        },
        {
          "output_type": "display_data",
          "data": {
            "text/plain": [
              "<Figure size 640x480 with 1 Axes>"
            ],
            "image/png": "[encoded data removed]"
          },
          "metadata": {}
        }
      ]
    },
    {
      "cell_type": "markdown",
      "source": [
        "=> Tập trung vào nhóm Accessories"
      ],
      "metadata": {
        "id": "fkHdwZ6A9RZ5"
      }
    },
    {
      "cell_type": "markdown",
      "source": [
        "2. Channel Corporate - Nhóm Office Supplies"
      ],
      "metadata": {
        "id": "zysvmTTO97Bo"
      }
    },
    {
      "cell_type": "code",
      "source": [
        "Potential_customer_product = Potential_product[Potential_product['Channel'] == 'Corporate']\n",
        "b = Potential_customer_product[Potential_customer_product['Category'] == 'Office Supplies']\n",
        "sns.barplot(data = b, x = 'Sub-Category', y = 'Sales', estimator = sum)"
      ],
      "metadata": {
        "colab": {
          "base_uri": "https://localhost:8080/",
          "height": 466
        },
        "id": "4eSB7-wI9vg0",
        "outputId": "94c0f86c-bec9-489f-d695-3dadc76bde7a"
      },
      "execution_count": null,
      "outputs": [
        {
          "output_type": "execute_result",
          "data": {
            "text/plain": [
              "<Axes: xlabel='Sub-Category', ylabel='Sales'>"
            ]
          },
          "metadata": {},
          "execution_count": 48
        },
        {
          "output_type": "display_data",
          "data": {
            "text/plain": [
              "<Figure size 640x480 with 1 Axes>"
            ],
            "image/png": "[encoded data removed]"
          },
          "metadata": {}
        }
      ]
    },
    {
      "cell_type": "code",
      "source": [
        "sns.barplot(data = b, x = 'Sub-Category', y = 'Profit', estimator = sum)"
      ],
      "metadata": {
        "colab": {
          "base_uri": "https://localhost:8080/",
          "height": 466
        },
        "id": "2FtD4qR3-WAH",
        "outputId": "198d17ab-c13f-40c2-9d4f-dd11e0f7fc94"
      },
      "execution_count": null,
      "outputs": [
        {
          "output_type": "execute_result",
          "data": {
            "text/plain": [
              "<Axes: xlabel='Sub-Category', ylabel='Profit'>"
            ]
          },
          "metadata": {},
          "execution_count": 49
        },
        {
          "output_type": "display_data",
          "data": {
            "text/plain": [
              "<Figure size 640x480 with 1 Axes>"
            ],
            "image/png": "[encoded data removed]"
          },
          "metadata": {}
        }
      ]
    },
    {
      "cell_type": "markdown",
      "source": [
        "=> Đẩy mạnh Paper và Appliances"
      ],
      "metadata": {
        "id": "WbcIHitW-Y1c"
      }
    }
  ]
}